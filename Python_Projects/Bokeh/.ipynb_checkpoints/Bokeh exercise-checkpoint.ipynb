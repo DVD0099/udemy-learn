{
 "cells": [
  {
   "cell_type": "code",
   "execution_count": 8,
   "metadata": {
    "collapsed": false
   },
   "outputs": [],
   "source": [
    "import pandas\n",
    "from bokeh.charts import Scatter, output_file, show\n",
    "\n",
    "df=pandas.read_excel(\"chart_data.xlsx\")\n",
    "\n",
    "#x=df['Temperature']\n",
    "#y=df['Pressure']\n",
    "\n",
    "p=Scatter(df, x='Temperature', y='Pressure', title=\"Temprature and Air Pressure\", xlabel=\"Temperature\", ylabel=\"Pressure\")\n",
    "\n",
    "output_file(\"Scatter_exercise.html\")\n",
    "\n",
    "show(p)"
   ]
  },
  {
   "cell_type": "code",
   "execution_count": 10,
   "metadata": {
    "collapsed": false
   },
   "outputs": [],
   "source": [
    "import pandas\n",
    "from bokeh.plotting import figure, output_file, show\n",
    "\n",
    "df=pandas.read_excel(\"chart_data.xlsx\")\n",
    "p=figure(plot_width=700,plot_height=600)\n",
    "\n",
    "p.title.text=\"Temperature and Air Pressure\"\n",
    "p.title.text_color=\"Orange\"\n",
    "p.title.text_font=\"times\"\n",
    "p.title.text_font_style=\"italic\"\n",
    "p.title.text_font_size='24pt'\n",
    "\n",
    "p.xaxis.axis_label=\"Temperature\"\n",
    "p.yaxis.axis_label=\"Pressure\"\n",
    "\n",
    "p.circle(df['Temperature'],df['Pressure'],size=2,color=\"blue\")\n",
    "\n",
    "output_file(\"Scatter_explotting.html\")\n",
    "show(p)"
   ]
  }
 ],
 "metadata": {
  "kernelspec": {
   "display_name": "Python 3",
   "language": "python",
   "name": "python3"
  },
  "language_info": {
   "codemirror_mode": {
    "name": "ipython",
    "version": 3
   },
   "file_extension": ".py",
   "mimetype": "text/x-python",
   "name": "python",
   "nbconvert_exporter": "python",
   "pygments_lexer": "ipython3",
   "version": "3.6.0"
  }
 },
 "nbformat": 4,
 "nbformat_minor": 2
}
